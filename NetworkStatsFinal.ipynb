{
  "nbformat": 4,
  "nbformat_minor": 0,
  "metadata": {
    "colab": {
      "provenance": [],
      "authorship_tag": "ABX9TyPLfQvJP+XiUZGaPna/dh3g",
      "include_colab_link": true
    },
    "kernelspec": {
      "name": "python3",
      "display_name": "Python 3"
    },
    "language_info": {
      "name": "python"
    }
  },
  "cells": [
    {
      "cell_type": "markdown",
      "metadata": {
        "id": "view-in-github",
        "colab_type": "text"
      },
      "source": [
        "<a href=\"https://colab.research.google.com/github/hthompso15/Network_stats_data_project/blob/main/NetworkStatsFinal.ipynb\" target=\"_parent\"><img src=\"https://colab.research.google.com/assets/colab-badge.svg\" alt=\"Open In Colab\"/></a>"
      ]
    },
    {
      "cell_type": "code",
      "source": [
        "from google.colab import drive\n",
        "drive.mount('/content/drive')"
      ],
      "metadata": {
        "colab": {
          "base_uri": "https://localhost:8080/"
        },
        "id": "wJ6L6U0CFt5m",
        "outputId": "1d715a3e-3d86-45ee-dbc0-30deac957eec"
      },
      "execution_count": 3,
      "outputs": [
        {
          "output_type": "stream",
          "name": "stdout",
          "text": [
            "Mounted at /content/drive\n"
          ]
        }
      ]
    },
    {
      "cell_type": "code",
      "source": [
        "! apt-get install git"
      ],
      "metadata": {
        "colab": {
          "base_uri": "https://localhost:8080/"
        },
        "id": "Gn9h8pBbFyym",
        "outputId": "0ec909f3-f3aa-4ff9-eb00-4ffc7e811bba"
      },
      "execution_count": 4,
      "outputs": [
        {
          "output_type": "stream",
          "name": "stdout",
          "text": [
            "Reading package lists... Done\n",
            "Building dependency tree... Done\n",
            "Reading state information... Done\n",
            "git is already the newest version (1:2.34.1-1ubuntu1.10).\n",
            "0 upgraded, 0 newly installed, 0 to remove and 40 not upgraded.\n"
          ]
        }
      ]
    },
    {
      "cell_type": "code",
      "source": [
        "! git clone https://github.com/jg-you/stat-6990-dataset-structure.git"
      ],
      "metadata": {
        "colab": {
          "base_uri": "https://localhost:8080/"
        },
        "id": "efA_PtwJF0Ss",
        "outputId": "71f7817c-bf6b-4897-c5a3-b0c0b2d91635"
      },
      "execution_count": 5,
      "outputs": [
        {
          "output_type": "stream",
          "name": "stdout",
          "text": [
            "Cloning into 'stat-6990-dataset-structure'...\n",
            "remote: Enumerating objects: 25, done.\u001b[K\n",
            "remote: Counting objects: 100% (25/25), done.\u001b[K\n",
            "remote: Compressing objects: 100% (20/20), done.\u001b[K\n",
            "remote: Total 25 (delta 2), reused 22 (delta 2), pack-reused 0\u001b[K\n",
            "Receiving objects: 100% (25/25), 117.66 KiB | 661.00 KiB/s, done.\n",
            "Resolving deltas: 100% (2/2), done.\n"
          ]
        }
      ]
    },
    {
      "cell_type": "code",
      "execution_count": null,
      "metadata": {
        "id": "MYappJzQEfPP"
      },
      "outputs": [],
      "source": [
        "!echo \"deb http://downloads.skewed.de/apt jammy main\" >> /etc/apt/sources.list\n",
        "!apt-key adv --keyserver keyserver.ubuntu.com --recv-key 612DEFB798507F25\n",
        "!apt-get update\n",
        "!apt-get install python3-graph-tool python3-matplotlib python3-cairo"
      ]
    },
    {
      "cell_type": "code",
      "source": [
        "# Colab uses a Python install that deviates from the system's! Bad collab! We need some workarounds.\n",
        "!apt purge python3-cairo\n",
        "!apt install libcairo2-dev pkg-config python3-dev\n",
        "!pip install --force-reinstall pycairo\n",
        "!pip install zstandard"
      ],
      "metadata": {
        "id": "NWP012SfEkjL"
      },
      "execution_count": null,
      "outputs": []
    },
    {
      "cell_type": "code",
      "source": [
        "import graph_tool.all as gt\n",
        "import networkx as nx\n",
        "import random\n",
        "import itertools as it\n",
        "import numpy as np\n",
        "\n",
        "\n",
        "g = gt.collection.ns[\"us_air_traffic\"]\n",
        "print('done')"
      ],
      "metadata": {
        "colab": {
          "base_uri": "https://localhost:8080/"
        },
        "id": "7m8t6BOwEoCj",
        "outputId": "f0b86ebf-5b28-4c66-bcd3-522f1e43a01e"
      },
      "execution_count": 1,
      "outputs": [
        {
          "output_type": "stream",
          "name": "stdout",
          "text": [
            "done\n"
          ]
        }
      ]
    },
    {
      "cell_type": "code",
      "source": [
        "# Get node properties\n",
        "node_properties = {key: g.vertex_properties[key] for key in g.vertex_properties.keys()}\n",
        "\n",
        "# Get edge properties\n",
        "edge_properties = {key: g.edge_properties[key] for key in g.edge_properties.keys()}\n",
        "\n",
        "print(\"Node properties:\")\n",
        "for key, prop in node_properties.items():\n",
        "    print(key, prop)\n",
        "\n",
        "print(\"\\nEdge properties:\")\n",
        "for key, prop in edge_properties.items():\n",
        "    print(key, prop)\n"
      ],
      "metadata": {
        "colab": {
          "base_uri": "https://localhost:8080/"
        },
        "id": "Zr5J26tVL5Ap",
        "outputId": "7bdce33f-cd85-45c9-e6e5-10e8aca2e0c9"
      },
      "execution_count": 15,
      "outputs": [
        {
          "output_type": "stream",
          "name": "stdout",
          "text": [
            "Node properties:\n",
            "airport_code <VertexPropertyMap object with value type 'string', for Graph 0x78f7bcb3b8b0, at 0x78f7bcb383a0>\n",
            "airport_id <VertexPropertyMap object with value type 'int16_t', for Graph 0x78f7bcb3b8b0, at 0x78f7bcb3b880>\n",
            "airport_seq_id <VertexPropertyMap object with value type 'int32_t', for Graph 0x78f7bcb3b8b0, at 0x78f7bcb3a830>\n",
            "city_market_id <VertexPropertyMap object with value type 'int32_t', for Graph 0x78f7bcb3b8b0, at 0x78f7bcb38fa0>\n",
            "origin <VertexPropertyMap object with value type 'string', for Graph 0x78f7bcb3b8b0, at 0x78f7bcb3a620>\n",
            "city_name <VertexPropertyMap object with value type 'string', for Graph 0x78f7bcb3b8b0, at 0x78f7bcb39c30>\n",
            "state_abr <VertexPropertyMap object with value type 'string', for Graph 0x78f7bcb3b8b0, at 0x78f7bcb3a6e0>\n",
            "state_fips <VertexPropertyMap object with value type 'string', for Graph 0x78f7bcb3b8b0, at 0x78f7bcb3bfd0>\n",
            "state_nm <VertexPropertyMap object with value type 'string', for Graph 0x78f7bcb3b8b0, at 0x78f7bcb3aa40>\n",
            "wac <VertexPropertyMap object with value type 'int16_t', for Graph 0x78f7bcb3b8b0, at 0x78f7bcb3afe0>\n",
            "_pos <VertexPropertyMap object with value type 'vector<double>', for Graph 0x78f7bcb3b8b0, at 0x78f7bcb3a410>\n",
            "\n",
            "Edge properties:\n",
            "passengers <EdgePropertyMap object with value type 'int32_t', for Graph 0x78f7bcb3b8b0, at 0x78f7bcb3ba00>\n",
            "freight <EdgePropertyMap object with value type 'double', for Graph 0x78f7bcb3b8b0, at 0x78f7bcb3b1f0>\n",
            "mail <EdgePropertyMap object with value type 'int32_t', for Graph 0x78f7bcb3b8b0, at 0x78f7bcb3a560>\n",
            "distance <EdgePropertyMap object with value type 'int16_t', for Graph 0x78f7bcb3b8b0, at 0x78f7bcb39840>\n",
            "unique_carrier <EdgePropertyMap object with value type 'string', for Graph 0x78f7bcb3b8b0, at 0x78f7bcb3ab90>\n",
            "airline_id <EdgePropertyMap object with value type 'string', for Graph 0x78f7bcb3b8b0, at 0x78f7bcb38e80>\n",
            "unique_carrier_name <EdgePropertyMap object with value type 'string', for Graph 0x78f7bcb3b8b0, at 0x78f7bcb3b9a0>\n",
            "unique_carrier_entity <EdgePropertyMap object with value type 'string', for Graph 0x78f7bcb3b8b0, at 0x78f7bcb3ac80>\n",
            "region <EdgePropertyMap object with value type 'string', for Graph 0x78f7bcb3b8b0, at 0x78f7bcb3b070>\n",
            "carrier <EdgePropertyMap object with value type 'string', for Graph 0x78f7bcb3b8b0, at 0x78f7bcb3a140>\n",
            "carrier_name <EdgePropertyMap object with value type 'string', for Graph 0x78f7bcb3b8b0, at 0x78f7bcb3a4d0>\n",
            "carrier_group <EdgePropertyMap object with value type 'int16_t', for Graph 0x78f7bcb3b8b0, at 0x78f7bcb39c00>\n",
            "carrier_group_new <EdgePropertyMap object with value type 'string', for Graph 0x78f7bcb3b8b0, at 0x78f7bcb39450>\n",
            "year <EdgePropertyMap object with value type 'int16_t', for Graph 0x78f7bcb3b8b0, at 0x78f7bcb390c0>\n",
            "quarter <EdgePropertyMap object with value type 'int16_t', for Graph 0x78f7bcb3b8b0, at 0x78f7bcb39150>\n",
            "month <EdgePropertyMap object with value type 'int16_t', for Graph 0x78f7bcb3b8b0, at 0x78f7bcb385b0>\n",
            "distance_group <EdgePropertyMap object with value type 'int16_t', for Graph 0x78f7bcb3b8b0, at 0x78f7bcb381f0>\n",
            "class <EdgePropertyMap object with value type 'string', for Graph 0x78f7bcb3b8b0, at 0x78f7bcb386a0>\n"
          ]
        }
      ]
    },
    {
      "cell_type": "code",
      "source": [
        "g.save(\"df_data.gml\")"
      ],
      "metadata": {
        "id": "DzbUpUVoMFNW"
      },
      "execution_count": 18,
      "outputs": []
    },
    {
      "cell_type": "code",
      "source": [
        "pos = gt.sfdp_layout(g)\n",
        "\n",
        "# Visualize the graph\n",
        "gt.graph_draw(g, pos=pos, output=\"graph_visualization.png\")"
      ],
      "metadata": {
        "id": "0GSWS_z0MnJd"
      },
      "execution_count": null,
      "outputs": []
    }
  ]
}